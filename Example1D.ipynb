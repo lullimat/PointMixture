{
 "cells": [
  {
   "cell_type": "code",
   "execution_count": 1,
   "id": "35598bdb",
   "metadata": {},
   "outputs": [],
   "source": [
    "# Development cell: it automatically reloads modified code in the various modules\n",
    "%load_ext autoreload\n",
    "%autoreload 2\n",
    "\n",
    "import sys\n",
    "sys.path.append(\"../../\")\n",
    "\n",
    "import numpy as np\n",
    "import sympy as sp\n",
    "\n",
    "sp.init_printing()\n",
    "\n",
    "import matplotlib.pyplot as plt\n",
    "\n",
    "from tqdm.notebook import tqdm"
   ]
  },
  {
   "cell_type": "markdown",
   "id": "05d5aa39",
   "metadata": {},
   "source": [
    "- True population distribution\n",
    "\n",
    "$$ X_i \\sim p_\\text{T}(x) = \\mathcal{N}(0,1)$$\n",
    "\n",
    "- Measurements distribution\n",
    "\n",
    "$$ X_i^{(m)} \\sim p_m(x) = p(x^{(m)} | x) = \\mathcal{N}(x^{(m)}, \\mu=x,\\sigma=\\sigma_\\text{N})$$\n",
    "\n",
    "- Model\n",
    "\n",
    "$$ p(x | \\vec{w}) = \\sum_{i=1}^{N_w} w_i \\delta(x - \\hat{x}_i)$$\n",
    "\n",
    "- We would like to understand which are the most probable weights given the data\n",
    "\n",
    "$$ p(\\vec{w} | \\{x_i^{(m)}\\}) \\propto p(\\{x_i^{(m)}\\} | \\vec{w})\\; p(\\vec{w})$$\n",
    "\n",
    "- The right thing to do would be to sample $\\vec{w}$ according to $p(\\vec{w} | \\{x_i^{(m)}\\})$\n",
    "- Alternatively\n",
    "\n",
    "$$\\vec{w}_\\text{MAP} = \\argmax_{\\vec{w}} p(\\vec{w} | \\{x_i^{(m)}\\})$$\n",
    "\n",
    "- Study the distribution\n",
    "\n",
    "$$ p(x)_\\text{MAP} = p(x | \\vec{w}_\\text{MAP}) = \\sum_{i=1}^{N_w} w_{(\\text{MAP}), i} \\delta(x - \\hat{x}_i)$$\n",
    "\n",
    "- Let's introduce the moments\n",
    "\n",
    "$$ p(\\vec{w}, \\vec{m} | \\{x_i^{(m)}\\}) \\propto p(\\{x_i^{(m)}\\} | \\vec{w})\\; p(\\vec{w} | \\vec{m})\\;p(\\vec{m})$$\n",
    "\n",
    "- One could use the maximum entropy principle and maximize the entropy of the above expression subject to contraints\n",
    "\n",
    "$$ \\langle \\log p(\\vec{w}, \\vec{m} | \\{x_i^{(m)}\\})\\rangle_p \\propto \\langle \\log p(\\{x_i^{(m)}\\} | \\vec{w}) \\rangle_p + \\langle \\log p(\\vec{w} | \\vec{m}) \\rangle_p + \\langle \\log p(\\vec{m}) \\rangle_p + \\sum_k \\lambda_k \\left(\\sum_{i=1}^{N_w} w_i \\hat{x}_i^k - m_k\\right)$$\n",
    "\n",
    "- For now we use \n",
    "\n",
    "$$ p(\\{x_i^{(m)}\\} | \\vec{w}) = \\int \\text{d} x\\, p(\\{x_i^{(m)}\\}, x | \\vec{w}) = \\prod_{i=1}^N \\int \\text{d} x\\, p(x_i^{(m)} | x)\\; p(x | \\vec{w}) = \\prod_{i=1}^N \\sum_{j=1}^{N_w} w_j p(x_i^{(m)}| \\hat{x}_j) = \\prod_{i=1}^N \\sum_{j=1}^{N_w} L_{ij} w_j$$\n",
    "\n",
    "$$ p(\\vec{w}, \\vec{m} | \\{x_i^{(m)}\\}) \\propto \\prod_{i=1}^N \\left[\\sum_{j=1}^{N_w} L_{ij} w_j\\right]\\; p(\\vec{w} | \\vec{m})\\;p(\\vec{m})$$\n"
   ]
  },
  {
   "cell_type": "code",
   "execution_count": 2,
   "id": "4a264510",
   "metadata": {},
   "outputs": [],
   "source": [
    "from scipy.stats import norm\n",
    "\n",
    "N, M = 2 ** 8, 2 ** 0\n",
    "sigma_noise = 2\n",
    "\n",
    "p_true = lambda x: norm.pdf(x, loc=0, scale=1)\n",
    "p_measure = lambda x, x_t: norm.pdf(x, loc=x_t, scale=sigma_noise)\n",
    "\n",
    "X_true = np.random.normal(loc=0, scale=1, size=N)\n",
    "X_measure = np.array([np.random.normal(loc=x, scale=sigma_noise, size=M) for x in X_true])\n",
    "\n",
    "N_w = 2 ** 3\n",
    "x_hat = np.linspace(np.amin(X_measure), np.amax(X_measure), N_w)\n",
    "L_ij = np.array([[p_measure(X_measure.ravel()[i], x_hat[j]) for j in range(N_w)] for i in range(N * M)])"
   ]
  },
  {
   "cell_type": "code",
   "execution_count": 3,
   "id": "04e00ab1",
   "metadata": {},
   "outputs": [],
   "source": [
    "import numpy as np\n",
    "from numpy.fft import fft, ifft, fftfreq, fftshift, ifftshift\n",
    "\n",
    "def ContinuousFT(f, x):\n",
    "    \"\"\"\n",
    "    Approximates the continuous Fourier transform: phi(f) ≈ ∫ f(x) exp(-i 2π f x) dx\n",
    "    using FFT on a symmetric grid around 0.\n",
    "    Input: f values on increasing x grid (e.g., linspace(-L/2, L/2, N)).\n",
    "    Output: phi at sorted increasing ordinary frequencies fs (negative to positive).\n",
    "    \"\"\"\n",
    "    dx = x[1] - x[0]\n",
    "    N = len(x)\n",
    "    shift_amount = N // 2\n",
    "    f_for_fft = np.roll(f, -shift_amount)\n",
    "    phi = fft(f_for_fft) * dx\n",
    "    phi_shifted = fftshift(phi)\n",
    "    fs_shifted = fftshift(fftfreq(N, d=dx))\n",
    "    sort_idx = np.argsort(fs_shifted)\n",
    "    return phi_shifted[sort_idx], fs_shifted[sort_idx]\n",
    "\n",
    "def ContinuousFTM1(phi, fs):\n",
    "    \"\"\"\n",
    "    Approximates the inverse continuous Fourier transform: f(x) ≈ ∫ phi(f) exp(i 2π f x) df\n",
    "    using IFFT, returning real part (assuming real-valued f).\n",
    "    Input: phi values at sorted increasing fs grid.\n",
    "    Output: f at increasing x grid symmetric around 0.\n",
    "    \"\"\"\n",
    "    df = fs[1] - fs[0]\n",
    "    N = len(fs)\n",
    "    phi_unshift = ifftshift(phi)\n",
    "    f_complex = ifft(phi_unshift) * N * df\n",
    "    shift_amount = N // 2\n",
    "    f_rolled = np.roll(f_complex, shift_amount)\n",
    "    dx_back = 1 / (N * df)\n",
    "    half_N = N // 2\n",
    "    xs = np.linspace(-half_N * dx_back, (half_N - 1) * dx_back, N)\n",
    "    return np.real(f_rolled), xs"
   ]
  },
  {
   "cell_type": "markdown",
   "id": "c96d5bcf",
   "metadata": {},
   "source": [
    "## Quadrature Weights Fluctuations"
   ]
  },
  {
   "cell_type": "markdown",
   "id": "7a9b3713",
   "metadata": {},
   "source": [
    "- Let's define the *moment-orthogonal* polynomials as\n",
    "\n",
    "$$\\langle q_{n}^{\\left(k\\right)}\\left(\\xi\\right)\\xi^{p}\\rangle_{\\omega}=\\delta_{pk},\\qquad p\\leq n,$$\n",
    "$$q_{n}^{\\left(k\\right)}\\left(\\xi\\right)=\\sum_{m=0}^{n}\\alpha_{m}^{\\left(k\\right)}\\xi^{m},\\qquad \\alpha_{r}^{\\left(k\\right)}=\\left[\\mathrm{H}^{\\left(n\\right)}\\right]_{rk}^{-1},$$\n",
    "\n",
    "- Let's define the fluctuating weights\n",
    "\n",
    "$$\\hat{w}_{i}=\\frac{w_{i}}{Z}\\exp\\left[\\sum_{p=0}^{n}q_{n}^{\\left(p\\right)}\\left(\\xi_{i}\\right)\\delta m_{p}\\right]$$\n",
    "\n",
    "with the normalization that can be expanded to second order\n",
    "\n",
    "$$\\begin{split}&Z=\\sum_{i=1}^{N}w_{i}\\exp\\left[\\sum_{p=0}^{n}q_{n}^{\\left(p\\right)}\\left(\\xi_{i}\\right)\\delta m_{p}\\right]\\simeq\\sum_{i=1}^{N}w_{i}\\left(1+\\sum_{p=0}^{n}q_{n}^{\\left(p\\right)}\\left(\\xi_{i}\\right)\\delta m_{p}+\\frac{1}{2}\\sum_{r,s=0}^{n}q_{n}^{\\left(r\\right)}\\left(\\xi_{i}\\right)q_{n}^{\\left(s\\right)}\\left(\\xi_{i}\\right)\\delta m_{r}\\delta m_{s}\\right)\\\\&=\\langle1\\rangle_{w}+\\sum_{p=0}^{n}\\langle q_{n}^{\\left(p\\right)}\\left(\\xi_{i}\\right)\\rangle_{w}\\delta m_{p}+\\frac{1}{2}\\sum_{r,s=0}^{n}\\langle q_{n}^{\\left(r\\right)}\\left(\\xi_{i}\\right)q_{n}^{\\left(s\\right)}\\left(\\xi_{i}\\right)\\rangle_{w}\\delta m_{r}\\delta m_{s}\\\\&=1+\\delta m_{0}+\\frac{1}{2}\\sum_{r,s=0}^{n}\\alpha_{r}^{\\left(s\\right)}\\delta m_{r}\\delta m_{s}=1+\\frac{1}{2}\\sum_{r,s=1}^{n}\\left[\\mathrm{H}^{\\left(n\\right)}\\right]_{rs}^{-1}\\delta m_{r}\\delta m_{s},\\qquad\\delta m_{0}=0\\end{split}$$\n",
    "\n",
    "yielding\n",
    "\n",
    "$$Z\\simeq1+\\frac{1}{2}\\sum_{r,s=1}^{n}\\left[\\mathrm{H}^{\\left(n\\right)}\\right]_{rs}^{-1}\\delta m_{r}\\delta m_{s}$$\n",
    "\n",
    "- Let's look at the logarithm of the weights\n",
    "\n",
    "$$\\log\\hat{w}_{i}=-\\frac{1}{2}\\sum_{r,s=1}^{n}\\left[\\mathrm{H}^{\\left(n\\right)}\\right]_{rs}^{-1}\\delta m_{r}\\delta m_{s}+\\sum_{p=1}^{n}q_{n}^{\\left(p\\right)}\\left(\\xi_{i}\\right)\\delta m_{p}+\\log w_{i}$$"
   ]
  },
  {
   "cell_type": "markdown",
   "id": "20e7d70a",
   "metadata": {},
   "source": [
    "## Generalized non-centered $\\chi^2$"
   ]
  },
  {
   "cell_type": "markdown",
   "id": "583f5b76",
   "metadata": {},
   "source": [
    "$$\\begin{split}&Y=\\mathbf{X}^{\\top}A\\mathbf{X}=\\sum_{k=1}^{n}\\lambda_{k}U_{k}^{2},\\qquad\\mathbf{X}\\sim\\mathcal{N}\\left(\\boldsymbol{\\nu},C\\right),\\qquad U_{k}\\sim\\mathcal{N}\\left(\\eta_{k},1\\right),\\qquad\\eta_{k}=P_{kr}^{\\top}S_{rs}^{-1}\\nu_{s},\\qquad S=\\left[C\\right]^{1/2},\\qquad S^{\\top}AS=P\\Gamma P^{\\top}\\\\&\\phi_{Y}\\left(t\\right)=\\prod_{k=1}^{n}\\phi_{\\lambda_{k}Z^{2}}\\left(t\\right)=\\prod_{k=1}^{n}\\frac{1}{\\sqrt{1-2\\imath\\lambda_{k}t}}\\exp\\left(\\frac{\\imath\\lambda_{k}\\eta_{k}^{2}t}{1-2\\imath\\lambda_{k}t}\\right)\\end{split}$$"
   ]
  },
  {
   "cell_type": "code",
   "execution_count": 4,
   "id": "d514179c",
   "metadata": {},
   "outputs": [
    {
     "data": {
      "text/plain": [
       "(array([[0.82350119, 0.68682752],\n",
       "        [0.68682752, 0.59950896]]),\n",
       " array([[0.08245299, 0.30351616],\n",
       "        [0.30351616, 0.24385918]]))"
      ]
     },
     "execution_count": 4,
     "metadata": {},
     "output_type": "execute_result"
    }
   ],
   "source": [
    "dim = 2\n",
    "nu = np.random.uniform(size=dim)\n",
    "C = np.random.uniform(size=(dim, dim))\n",
    "C = (C.T + C) * 0.5\n",
    "\n",
    "A = np.random.uniform(size=(dim, dim))\n",
    "A = (A.T + A) * 0.5\n",
    "\n",
    "C, A"
   ]
  },
  {
   "cell_type": "code",
   "execution_count": 5,
   "id": "bcaaa834",
   "metadata": {},
   "outputs": [
    {
     "name": "stdout",
     "output_type": "stream",
     "text": [
      "[1. 1.] [[1. 0.]\n",
      " [0. 1.]]\n"
     ]
    }
   ],
   "source": [
    "dim = 2\n",
    "# nu = np.random.uniform(size=dim)\n",
    "\n",
    "# C = np.random.randn(dim, dim)\n",
    "# C = np.dot(C.T, C) + np.eye(dim) * 1e-6\n",
    "\n",
    "# A = np.random.randn(dim, dim)\n",
    "# A = np.dot(A.T, A) + np.eye(dim) * 1e-6\n",
    "\n",
    "A = np.array([[1, 0], [0, 1]])\n",
    "nu = np.array([1, 1])\n",
    "C = np.array([[1, 0], [0, 1]])\n",
    "\n",
    "Lambda_C, O_C = np.linalg.eig(C)\n",
    "\n",
    "print(Lambda_C, O_C)\n",
    "\n",
    "S = O_C.T @ np.diag(np.sqrt(Lambda_C)) @ O_C\n",
    "\n",
    "Sm1 = np.linalg.inv(S)\n",
    "\n",
    "Lambdas, P = np.linalg.eig(S.T @ A @ S)\n",
    "Etas = P.T @ Sm1 @ nu\n",
    "\n",
    "phi_t_lams = [lambda t: (1 / np.sqrt(1 - 2 * 1j * lam * t)) * np.exp((1j * lam * (eta ** 2) * t) / (1 - 2 * 1j * lam * t)) for lam, eta in zip(Lambdas, Etas)]\n",
    "\n",
    "def PhiY(t, phi_t_lams=phi_t_lams):\n",
    "    res = 1\n",
    "    for phi in phi_t_lams:\n",
    "        res *= phi(t)\n",
    "    return res"
   ]
  },
  {
   "cell_type": "code",
   "execution_count": 6,
   "id": "3802fa5d",
   "metadata": {},
   "outputs": [
    {
     "data": {
      "image/png": "[encoded data removed]",
      "text/plain": [
       "<Figure size 640x480 with 1 Axes>"
      ]
     },
     "metadata": {},
     "output_type": "display_data"
    }
   ],
   "source": [
    "from scipy.stats import norm\n",
    "\n",
    "sample_N = 2 ** 17\n",
    "X_sample = np.array(np.random.multivariate_normal(nu, C, size=sample_N).squeeze())\n",
    "\n",
    "gauss_range = np.linspace(-5, 5, 2 ** 10)\n",
    "gauss_f = lambda x: norm.pdf(x, loc=nu[1], scale=np.sqrt(C[1, 1]))\n",
    "\n",
    "plt.figure()\n",
    "_ = plt.hist(X_sample[:, 0], density=True, bins=2**5, alpha=0.3)\n",
    "_ = plt.hist(X_sample[:, 1], density=True, bins=2**5, alpha=0.3)\n",
    "plt.plot(gauss_range, gauss_f(gauss_range))\n",
    "\n",
    "Y_sample = np.array([X @ (A @ X) for X in X_sample])\n"
   ]
  },
  {
   "cell_type": "code",
   "execution_count": 8,
   "id": "a382c7ad",
   "metadata": {},
   "outputs": [
    {
     "name": "stdout",
     "output_type": "stream",
     "text": [
      "Mean Y_0: 3.923 (expected ~0.636)\n",
      "Var Y_0: 11.378 (expected ~0.160)\n",
      "Mode Y_0: 0.006\n",
      "PDF(0): 0.093\n"
     ]
    },
    {
     "data": {
      "image/png": "[encoded data removed]",
      "text/plain": [
       "<Figure size 640x480 with 1 Axes>"
      ]
     },
     "metadata": {},
     "output_type": "display_data"
    }
   ],
   "source": [
    "N = 2 ** 14\n",
    "t_max = 2 ** 9 # Reasonable range for |t|; increase for tails\n",
    "fs = np.linspace(-t_max / (2 * np.pi), t_max / (2 * np.pi), N)\n",
    "# Flip arg for correct phase (matches e^{-i t y} convention)\n",
    "phi_input = np.array([PhiY(2 * np.pi * (-f)) for f in fs])\n",
    "pdf_full, y_grid_full = ContinuousFTM1(phi_input, fs)\n",
    "\n",
    "# Extract positive y (Y_i >0), normalize\n",
    "pos_mask = y_grid_full >= 0\n",
    "pdf_y = pdf_full[pos_mask]\n",
    "y_grid = y_grid_full[pos_mask]\n",
    "integ_pos = np.trapezoid(pdf_y, y_grid)\n",
    "pdf_y /= integ_pos  # Ensures ∫ pdf_y dy =1\n",
    "\n",
    "# Quick validation: moments\n",
    "mean_y = np.trapezoid(y_grid * pdf_y, y_grid)\n",
    "var_y = np.trapezoid(y_grid**2 * pdf_y, y_grid) - mean_y**2\n",
    "print(f\"Mean Y_0: {mean_y:.3f} (expected ~0.636)\")\n",
    "print(f\"Var Y_0: {var_y:.3f} (expected ~0.160)\")\n",
    "print(f\"Mode Y_0: {y_grid[np.argmax(pdf_y)]:.3f}\")\n",
    "print(f\"PDF(0): {pdf_y[0]:.3f}\")\n",
    "\n",
    "# Plot\n",
    "import matplotlib.pyplot as plt\n",
    "plt.figure()\n",
    "plt.plot(y_grid, pdf_y, 'r-', linewidth=2, label='Theory PDF of $Y_0$')\n",
    "_ = plt.hist(Y_sample, density=True, bins=2**6, alpha=0.3)\n",
    "# plt.yscale('log')\n",
    "# plt.xlim(0, 3)  # Focus on main support\n",
    "plt.xlabel('$Y_0$')\n",
    "plt.ylabel('Density')\n",
    "plt.legend()\n",
    "plt.show()"
   ]
  },
  {
   "cell_type": "markdown",
   "id": "120a5d78",
   "metadata": {},
   "source": [
    "## Gaussian Quadratures - $p(\\hat{w})$"
   ]
  },
  {
   "cell_type": "code",
   "execution_count": 4,
   "id": "571b234f",
   "metadata": {},
   "outputs": [
    {
     "name": "stdout",
     "output_type": "stream",
     "text": [
      "w_i: [0.16666667 0.66666667 0.16666667]\n",
      "hat_x_i: [-1.73205081  0.          1.73205081]\n",
      "kBT_max: 0.07071067811865475\n"
     ]
    },
    {
     "data": {
      "image/png": "[encoded data removed]",
      "text/plain": [
       "<Figure size 640x480 with 1 Axes>"
      ]
     },
     "metadata": {},
     "output_type": "display_data"
    }
   ],
   "source": [
    "def GaussMs(k):\n",
    "    if k == 0:\n",
    "        return 1.0\n",
    "    if k % 2 == 1:\n",
    "        return 0\n",
    "    else:\n",
    "        return float(sp.factorial2(k - 1))\n",
    "\n",
    "q_degree = 2\n",
    "\"\"\"\n",
    "Quadrature first, hat_x_i, w_i ... what a waste\n",
    "\"\"\"\n",
    "gauss_degree = q_degree + 1\n",
    "\n",
    "H = np.array([[GaussMs(i + j) for j in range(gauss_degree + 1)] for i in range(gauss_degree + 1)])\n",
    "Hm1_T = np.linalg.inv(H).T\n",
    "\n",
    "q_polys_c = np.array([Hm1_T @ np.array([1 if j == i else 0 for j in range(gauss_degree + 1)]) for i in range(gauss_degree + 1)])\n",
    "q_polys_c_np = np.array([np.flip(cs) for cs in q_polys_c])\n",
    "orthogonal_poly_cs = q_polys_c_np[-1]\n",
    "\n",
    "hat_x_i = np.sort(np.roots(orthogonal_poly_cs))\n",
    "\n",
    "VMM = np.array([[x ** p for p in range(gauss_degree)] for x in hat_x_i])\n",
    "VMM_det = np.linalg.det(VMM)\n",
    "VMM_i = lambda i: np.array([H[0,:gauss_degree] if i == j else [x ** p for p in range(gauss_degree)]for j, x in enumerate(hat_x_i)])\n",
    "VMM_i_det = lambda i: np.linalg.det(VMM_i(i))\n",
    "\n",
    "w_i = np.array([VMM_i_det(i) / VMM_det for i in range(gauss_degree)])\n",
    "\n",
    "print(\"w_i:\", w_i)\n",
    "print(\"hat_x_i:\", hat_x_i)\n",
    "\n",
    "\"\"\"\n",
    "Moment-orthogonal polynomials\n",
    "\"\"\"\n",
    "H = np.array([[GaussMs(i + j) for j in range(q_degree + 1)] for i in range(q_degree + 1)])\n",
    "Hm1_T = np.linalg.inv(H).T\n",
    "\n",
    "q_polys_c = np.array([Hm1_T @ np.array([1 if j == i else 0 for j in range(q_degree + 1)]) for i in range(q_degree + 1)])\n",
    "q_polys_c_np = np.array([np.flip(cs) for cs in q_polys_c])\n",
    "\n",
    "q_polys_lams = [lambda x, c=cs: np.polyval(c, x) for cs in q_polys_c_np]\n",
    "q_poly_evals = np.array([f(hat_x_i) for f in q_polys_lams])\n",
    "q_poly_evals_T = q_poly_evals.T\n",
    "\n",
    "\"\"\"\n",
    "Preparing the correlations for the Moment Lattice Model\n",
    "\"\"\"\n",
    "def GetCpq(P, ms_lam):\n",
    "    ms_dict_P = {p: ms_lam(p) for p in range(1, 2 * P + 1, 1)}\n",
    "    num_lam = lambda p, q: ms_dict_P[p + q] - ms_dict_P[p] * ms_dict_P[q]\n",
    "    den_lam = lambda p, q: np.sqrt((ms_dict_P[2 * p] - (ms_dict_P[p] ** 2)) * (ms_dict_P[2 * q] - (ms_dict_P[q] ** 2)))\n",
    "    Cpq = np.array([[num_lam(p, q) / den_lam(p, q) for q in range(1, P + 1)] for p in range(1, P + 1)])\n",
    "    return Cpq\n",
    "\n",
    "Cpq = GetCpq(q_degree, GaussMs)\n",
    "\n",
    "def FindMaxKBT(P, ms_lam, GL_ratio=0.1):\n",
    "    ratios_mm2 = np.array([ms_lam(p) / np.sqrt((ms_lam(2 * p) - (ms_lam(p) ** 2))) for p in range(1, P + 1)])\n",
    "    ratios_mm2 = ratios_mm2[ratios_mm2 > 0]\n",
    "    beta_min = 1 / np.sort(ratios_mm2)[0]\n",
    "    kBT_max = (1 / beta_min) * GL_ratio\n",
    "\n",
    "    return kBT_max\n",
    "\n",
    "kBT_max = FindMaxKBT(q_degree, GaussMs)\n",
    "\n",
    "print(\"kBT_max:\", kBT_max)\n",
    "\n",
    "def SqrtVar(p, ms_lam, kBT=1):\n",
    "    return np.sqrt(kBT * (ms_lam(2 * p) - (ms_lam(p) ** 2)))\n",
    "\n",
    "def GetDeltaMs(Cpq, ms_lam, kBT, size=1):\n",
    "    P_ms = Cpq.shape[0]\n",
    "    phi_p = np.array(np.random.multivariate_normal([0] * P_ms, Cpq, size=size).squeeze())\n",
    "    return np.array([0] + list(phi_p * np.array([SqrtVar(p, ms_lam, kBT) for p in range(1, P_ms + 1)])))\n",
    "\n",
    "def HatWRnd(Cpq, ms_lam, kBT, size=1):\n",
    "    hat_w_i = w_i * np.exp(q_poly_evals_T @ GetDeltaMs(Cpq, ms_lam, kBT, size=size))\n",
    "    return hat_w_i / np.sum(hat_w_i)\n",
    "\n",
    "kBT, n_hat_samples = kBT_max * 0.5, 2 ** 17\n",
    "hat_w_sample = np.array([HatWRnd(Cpq, GaussMs, kBT) for k in range(n_hat_samples)])\n",
    "\n",
    "sqrt_kBT_scale = np.diag(np.array([SqrtVar(p, GaussMs, kBT_max) for p in range(1, q_degree + 1)]))\n",
    "Hm1_T_pruned = Hm1_T[1:, 1:]\n",
    "H_pruned = H[1:, 1:]\n",
    "\n",
    "AC_m = (Hm1_T_pruned @ (sqrt_kBT_scale @ Cpq @ sqrt_kBT_scale))\n",
    "Lambda, Q = np.linalg.eig(AC_m)\n",
    "\n",
    "A_inv = np.linalg.inv(Hm1_T_pruned)\n",
    "etas = - Q.T @ A_inv @ q_poly_evals[1:,:]\n",
    "\n",
    "# etas = - Q.T @ H_pruned @ q_poly_evals[1:,:]\n",
    "\n",
    "plt.figure()\n",
    "\n",
    "for i in range(len(w_i)):\n",
    "    _ = plt.hist((hat_w_sample[:, i]), density=True, bins=2**5, alpha=0.3)\n",
    "    \n",
    "# plt.yscale('log')\n",
    "# plt.xscale('log')"
   ]
  }
 ],
 "metadata": {
  "kernelspec": {
   "display_name": "idea.deploy",
   "language": "python",
   "name": "idpy-env"
  },
  "language_info": {
   "codemirror_mode": {
    "name": "ipython",
    "version": 3
   },
   "file_extension": ".py",
   "mimetype": "text/x-python",
   "name": "python",
   "nbconvert_exporter": "python",
   "pygments_lexer": "ipython3",
   "version": "3.11.13"
  }
 },
 "nbformat": 4,
 "nbformat_minor": 5
}
